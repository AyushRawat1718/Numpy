{
 "cells": [
  {
   "cell_type": "code",
   "execution_count": 1,
   "metadata": {},
   "outputs": [],
   "source": [
    "import numpy as np"
   ]
  },
  {
   "cell_type": "markdown",
   "metadata": {},
   "source": [
    "### Array filled with 0's : Zeros Array"
   ]
  },
  {
   "cell_type": "code",
   "execution_count": 2,
   "metadata": {},
   "outputs": [
    {
     "name": "stdout",
     "output_type": "stream",
     "text": [
      "[0. 0. 0. 0.]\n",
      "1\n",
      "\n",
      "[[0. 0. 0. 0.]\n",
      " [0. 0. 0. 0.]\n",
      " [0. 0. 0. 0.]]\n",
      "2\n"
     ]
    }
   ],
   "source": [
    "ar_zero_1 = np.zeros(4)\n",
    "print(ar_zero_1)\n",
    "print(ar_zero_1.ndim)\n",
    "\n",
    "print()\n",
    "\n",
    "ar_zero_2 = np.zeros((3,4))\n",
    "print(ar_zero_2)\n",
    "print(ar_zero_2.ndim)"
   ]
  },
  {
   "cell_type": "markdown",
   "metadata": {},
   "source": [
    "### Array filled with 1's : Ones Array"
   ]
  },
  {
   "cell_type": "code",
   "execution_count": 3,
   "metadata": {},
   "outputs": [
    {
     "name": "stdout",
     "output_type": "stream",
     "text": [
      "[1. 1. 1. 1. 1.]\n",
      "[[1. 1. 1.]\n",
      " [1. 1. 1.]]\n"
     ]
    }
   ],
   "source": [
    "ar_one_1 = np.ones(5)\n",
    "print(ar_one_1)\n",
    "\n",
    "ar_one_2 = np.ones((2,3))\n",
    "print(ar_one_2)"
   ]
  },
  {
   "cell_type": "markdown",
   "metadata": {},
   "source": [
    "### Elements with a particular range of numbers"
   ]
  },
  {
   "cell_type": "code",
   "execution_count": 4,
   "metadata": {},
   "outputs": [
    {
     "name": "stdout",
     "output_type": "stream",
     "text": [
      "[0 1 2 3]\n",
      "[1 3 5 7]\n",
      "[10  9  8  7  6  5  4  3  2  1]\n"
     ]
    }
   ],
   "source": [
    "arr_1 = np.arange(4)\n",
    "print(arr_1)\n",
    "\n",
    "arr_2 = np.arange(1,9,2)\n",
    "print(arr_2)\n",
    "\n",
    "arr_3 = np.arange(10,0,-1)\n",
    "print(arr_3)\n"
   ]
  },
  {
   "cell_type": "markdown",
   "metadata": {},
   "source": [
    "### rand() function : Generate array with random values b/w 0 and 1"
   ]
  },
  {
   "cell_type": "code",
   "execution_count": 5,
   "metadata": {},
   "outputs": [
    {
     "name": "stdout",
     "output_type": "stream",
     "text": [
      "[0.28190664 0.52749447 0.9305384  0.24947574]\n",
      "[[0.41384938 0.94838864 0.67761486 0.79397685 0.24638587]\n",
      " [0.02941366 0.29167238 0.801569   0.32123428 0.96334712]\n",
      " [0.15991931 0.25140754 0.85328266 0.3548833  0.56941291]\n",
      " [0.66775534 0.71956075 0.29707147 0.52238462 0.06763961]]\n"
     ]
    }
   ],
   "source": [
    "arr_4 = np.random.rand(4) \n",
    "print(arr_4)\n",
    "\n",
    "arr_5 = np.random.rand(4,5)\n",
    "print(arr_5)"
   ]
  },
  {
   "cell_type": "markdown",
   "metadata": {},
   "source": [
    "### randn() function: Generate array with random values that are close to 0. They may be +ve and -ve"
   ]
  },
  {
   "cell_type": "code",
   "execution_count": 6,
   "metadata": {},
   "outputs": [
    {
     "name": "stdout",
     "output_type": "stream",
     "text": [
      "[ 1.32724123  1.31989063 -0.45529069 -1.2355807   0.39427883]\n",
      "[[ 0.74876209 -0.06920235 -1.02398983]\n",
      " [-0.04396444  0.72285764 -0.55414008]]\n"
     ]
    }
   ],
   "source": [
    "arr_6 = np.random.randn(5)\n",
    "print(arr_6)\n",
    "\n",
    "arr_7 = np.random.randn(2,3)\n",
    "print(arr_7)"
   ]
  },
  {
   "cell_type": "markdown",
   "metadata": {},
   "source": [
    "### ranf() function : Similar to rand() function but here range is [0.0, 1.0)"
   ]
  },
  {
   "cell_type": "code",
   "execution_count": 7,
   "metadata": {},
   "outputs": [
    {
     "name": "stdout",
     "output_type": "stream",
     "text": [
      "[0.03574397 0.62620668 0.58359093 0.85436377]\n",
      "[[0.00994844 0.64903554 0.61757283 0.9915451  0.10865014 0.29130103\n",
      "  0.65891713]\n",
      " [0.70061073 0.91143464 0.36990356 0.59066835 0.80440654 0.8486895\n",
      "  0.37159807]]\n"
     ]
    }
   ],
   "source": [
    "arr_8 = np.random.ranf(4)\n",
    "print(arr_8)\n",
    "\n",
    "arr_9 = np.random.ranf((2,7))\n",
    "print(arr_9)\n"
   ]
  },
  {
   "cell_type": "markdown",
   "metadata": {},
   "source": [
    "### randint() function : Generates random number within a given range"
   ]
  },
  {
   "cell_type": "code",
   "execution_count": 8,
   "metadata": {},
   "outputs": [
    {
     "name": "stdout",
     "output_type": "stream",
     "text": [
      "[1 7 7 5 6]\n",
      "[[8 6 1 5 1]\n",
      " [5 6 4 1 8]]\n",
      "(2, 5)\n"
     ]
    }
   ],
   "source": [
    "# var = np.random.randint(min, max, shape) =>  This is the syntax\n",
    "\n",
    "var_1 = np.random.randint(1,9,5)\n",
    "print(var_1)\n",
    "\n",
    "var_2 = np.random.randint(1,9,(2,5))\n",
    "print(var_2)\n",
    "print(var_2.shape)"
   ]
  }
 ],
 "metadata": {
  "kernelspec": {
   "display_name": "Python 3",
   "language": "python",
   "name": "python3"
  },
  "language_info": {
   "codemirror_mode": {
    "name": "ipython",
    "version": 3
   },
   "file_extension": ".py",
   "mimetype": "text/x-python",
   "name": "python",
   "nbconvert_exporter": "python",
   "pygments_lexer": "ipython3",
   "version": "3.12.0"
  }
 },
 "nbformat": 4,
 "nbformat_minor": 2
}
