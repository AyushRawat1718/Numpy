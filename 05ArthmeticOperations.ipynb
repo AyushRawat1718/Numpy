{
 "cells": [
  {
   "cell_type": "markdown",
   "metadata": {},
   "source": [
    "### Arithmetic Operations"
   ]
  },
  {
   "cell_type": "code",
   "execution_count": 16,
   "metadata": {},
   "outputs": [],
   "source": [
    "import numpy as np"
   ]
  },
  {
   "cell_type": "code",
   "execution_count": 17,
   "metadata": {},
   "outputs": [
    {
     "name": "stdout",
     "output_type": "stream",
     "text": [
      "[4 5 6 7]\n"
     ]
    }
   ],
   "source": [
    "var = np.array([1,2,3,4])\n",
    "varadd = var + 3 #Adding 3 to every element of the array\n",
    "# varadd = np.add(var,3)\n",
    "print(varadd)"
   ]
  },
  {
   "cell_type": "code",
   "execution_count": 18,
   "metadata": {},
   "outputs": [
    {
     "name": "stdout",
     "output_type": "stream",
     "text": [
      "[ 6  8 10 12]\n"
     ]
    }
   ],
   "source": [
    "var1 = np.array([1,2,3,4])\n",
    "var2 = np.array([5,6,7,8])\n",
    "\n",
    "print(np.add(var1, var2))"
   ]
  },
  {
   "cell_type": "code",
   "execution_count": 19,
   "metadata": {},
   "outputs": [
    {
     "name": "stdout",
     "output_type": "stream",
     "text": [
      "[[1 2 3]\n",
      " [4 5 6]]\n",
      "\n",
      "[[4 5 6]\n",
      " [1 2 3]]\n",
      "\n",
      "[[5 7 9]\n",
      " [5 7 9]]\n",
      "\n",
      "[[-3 -3 -3]\n",
      " [ 3  3  3]]\n",
      "\n",
      "[[ 4 10 18]\n",
      " [ 4 10 18]]\n",
      "\n"
     ]
    }
   ],
   "source": [
    "# For 2D Array\n",
    "\n",
    "var2d1 = np.array([[1,2,3],[4,5,6]])\n",
    "var2d2 = np.array([[4,5,6],[1,2,3]])\n",
    "\n",
    "print(var2d1)\n",
    "print()\n",
    "print(var2d2)\n",
    "print()\n",
    "\n",
    "print(np.add(var2d1, var2d2))\n",
    "print()\n",
    "print(np.subtract(var2d1, var2d2))\n",
    "print()\n",
    "print(np.multiply(var2d1, var2d2))\n",
    "print()"
   ]
  },
  {
   "cell_type": "markdown",
   "metadata": {},
   "source": [
    "### Max/Min element"
   ]
  },
  {
   "cell_type": "code",
   "execution_count": 20,
   "metadata": {},
   "outputs": [
    {
     "name": "stdout",
     "output_type": "stream",
     "text": [
      "Minimum Element: 1 , Index: 0\n",
      "Maximum Element: 8 , Index: 6\n"
     ]
    }
   ],
   "source": [
    "a = np.array([1,2,3,4,5,6,8])\n",
    "print(\"Minimum Element:\", a.min(), \", Index:\",a.argmin())\n",
    "print(\"Maximum Element:\", a.max(), \", Index:\",a.argmax())"
   ]
  },
  {
   "cell_type": "code",
   "execution_count": 21,
   "metadata": {},
   "outputs": [
    {
     "name": "stdout",
     "output_type": "stream",
     "text": [
      "[3 2 1] [4 5 6]\n",
      "[1 3] [4 6]\n"
     ]
    }
   ],
   "source": [
    "b = np.array([[4,2,1],[3,5,6]])\n",
    "\n",
    "\"\"\"\n",
    "For 1d array -> Row : Axis = 0\n",
    "\n",
    "For 2d array -> Column : Axis = 0, Row : Axis = 1\n",
    "\n",
    "For 3d array -> Column : Axis = 0, Row : Axis = 1, Width : Axis = 2\n",
    "\"\"\"\n",
    "\n",
    "print(b.min(axis=0), b.max(axis=0))\n",
    "print(b.min(axis=1),b.max(axis=1))\n"
   ]
  }
 ],
 "metadata": {
  "kernelspec": {
   "display_name": "Python 3",
   "language": "python",
   "name": "python3"
  },
  "language_info": {
   "codemirror_mode": {
    "name": "ipython",
    "version": 3
   },
   "file_extension": ".py",
   "mimetype": "text/x-python",
   "name": "python",
   "nbconvert_exporter": "python",
   "pygments_lexer": "ipython3",
   "version": "3.12.0"
  }
 },
 "nbformat": 4,
 "nbformat_minor": 2
}
